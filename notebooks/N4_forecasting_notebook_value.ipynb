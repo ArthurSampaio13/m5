{
  "cells": [
    {
      "cell_type": "code",
      "execution_count": 1,
      "id": "xqJQNm1sCMFy",
      "metadata": {
        "colab": {
          "base_uri": "https://localhost:8080/"
        },
        "id": "xqJQNm1sCMFy",
        "outputId": "65b4afde-a32f-4872-e834-e62619867cdd"
      },
      "outputs": [
        {
          "name": "stdout",
          "output_type": "stream",
          "text": [
            "Mounted at /content/drive\n"
          ]
        }
      ],
      "source": [
        "from google.colab import drive\n",
        "drive.mount('/content/drive')"
      ]
    },
    {
      "cell_type": "markdown",
      "id": "3a734057-93e5-4df0-a388-985c94f4ee64",
      "metadata": {
        "id": "3a734057-93e5-4df0-a388-985c94f4ee64",
        "jp-MarkdownHeadingCollapsed": true,
        "tags": []
      },
      "source": [
        "# Baixando as bibliotecas"
      ]
    },
    {
      "cell_type": "code",
      "execution_count": 2,
      "id": "1ffb93f8-724c-42d8-9df0-0aa65f24df28",
      "metadata": {
        "colab": {
          "base_uri": "https://localhost:8080/"
        },
        "id": "1ffb93f8-724c-42d8-9df0-0aa65f24df28",
        "outputId": "957d2143-c7b6-470e-9aa8-78d2afc3df2b",
        "tags": []
      },
      "outputs": [
        {
          "name": "stdout",
          "output_type": "stream",
          "text": [
            "Collecting mlforecast\n",
            "  Downloading mlforecast-0.13.1-py3-none-any.whl (66 kB)\n",
            "\u001b[2K     \u001b[90m━━━━━━━━━━━━━━━━━━━━━━━━━━━━━━━━━━━━━━━━\u001b[0m \u001b[32m66.0/66.0 kB\u001b[0m \u001b[31m1.5 MB/s\u001b[0m eta \u001b[36m0:00:00\u001b[0m\n",
            "\u001b[?25hCollecting dill\n",
            "  Downloading dill-0.3.8-py3-none-any.whl (116 kB)\n",
            "\u001b[2K     \u001b[90m━━━━━━━━━━━━━━━━━━━━━━━━━━━━━━━━━━━━━━━━\u001b[0m \u001b[32m116.3/116.3 kB\u001b[0m \u001b[31m7.2 MB/s\u001b[0m eta \u001b[36m0:00:00\u001b[0m\n",
            "\u001b[?25hRequirement already satisfied: cloudpickle in /usr/local/lib/python3.10/dist-packages (from mlforecast) (2.2.1)\n",
            "Collecting coreforecast>=0.0.10 (from mlforecast)\n",
            "  Downloading coreforecast-0.0.10-py3-none-manylinux_2_17_x86_64.manylinux2014_x86_64.whl (223 kB)\n",
            "\u001b[2K     \u001b[90m━━━━━━━━━━━━━━━━━━━━━━━━━━━━━━━━━━━━━━━━\u001b[0m \u001b[32m223.5/223.5 kB\u001b[0m \u001b[31m13.2 MB/s\u001b[0m eta \u001b[36m0:00:00\u001b[0m\n",
            "\u001b[?25hRequirement already satisfied: fsspec in /usr/local/lib/python3.10/dist-packages (from mlforecast) (2023.6.0)\n",
            "Requirement already satisfied: numba in /usr/local/lib/python3.10/dist-packages (from mlforecast) (0.58.1)\n",
            "Collecting optuna (from mlforecast)\n",
            "  Downloading optuna-3.6.1-py3-none-any.whl (380 kB)\n",
            "\u001b[2K     \u001b[90m━━━━━━━━━━━━━━━━━━━━━━━━━━━━━━━━━━━━━━━━\u001b[0m \u001b[32m380.1/380.1 kB\u001b[0m \u001b[31m31.7 MB/s\u001b[0m eta \u001b[36m0:00:00\u001b[0m\n",
            "\u001b[?25hRequirement already satisfied: packaging in /usr/local/lib/python3.10/dist-packages (from mlforecast) (24.1)\n",
            "Requirement already satisfied: pandas in /usr/local/lib/python3.10/dist-packages (from mlforecast) (2.0.3)\n",
            "Requirement already satisfied: scikit-learn in /usr/local/lib/python3.10/dist-packages (from mlforecast) (1.2.2)\n",
            "Collecting utilsforecast>=0.1.9 (from mlforecast)\n",
            "  Downloading utilsforecast-0.1.12-py3-none-any.whl (40 kB)\n",
            "\u001b[2K     \u001b[90m━━━━━━━━━━━━━━━━━━━━━━━━━━━━━━━━━━━━━━━━\u001b[0m \u001b[32m40.8/40.8 kB\u001b[0m \u001b[31m3.9 MB/s\u001b[0m eta \u001b[36m0:00:00\u001b[0m\n",
            "\u001b[?25hCollecting window-ops (from mlforecast)\n",
            "  Downloading window_ops-0.0.15-py3-none-any.whl (15 kB)\n",
            "Requirement already satisfied: numpy>=1.20.0 in /usr/local/lib/python3.10/dist-packages (from coreforecast>=0.0.10->mlforecast) (1.25.2)\n",
            "Requirement already satisfied: python-dateutil>=2.8.2 in /usr/local/lib/python3.10/dist-packages (from pandas->mlforecast) (2.8.2)\n",
            "Requirement already satisfied: pytz>=2020.1 in /usr/local/lib/python3.10/dist-packages (from pandas->mlforecast) (2023.4)\n",
            "Requirement already satisfied: tzdata>=2022.1 in /usr/local/lib/python3.10/dist-packages (from pandas->mlforecast) (2024.1)\n",
            "Requirement already satisfied: llvmlite<0.42,>=0.41.0dev0 in /usr/local/lib/python3.10/dist-packages (from numba->mlforecast) (0.41.1)\n",
            "Collecting alembic>=1.5.0 (from optuna->mlforecast)\n",
            "  Downloading alembic-1.13.2-py3-none-any.whl (232 kB)\n",
            "\u001b[2K     \u001b[90m━━━━━━━━━━━━━━━━━━━━━━━━━━━━━━━━━━━━━━━━\u001b[0m \u001b[32m233.0/233.0 kB\u001b[0m \u001b[31m24.8 MB/s\u001b[0m eta \u001b[36m0:00:00\u001b[0m\n",
            "\u001b[?25hCollecting colorlog (from optuna->mlforecast)\n",
            "  Downloading colorlog-6.8.2-py3-none-any.whl (11 kB)\n",
            "Requirement already satisfied: sqlalchemy>=1.3.0 in /usr/local/lib/python3.10/dist-packages (from optuna->mlforecast) (2.0.31)\n",
            "Requirement already satisfied: tqdm in /usr/local/lib/python3.10/dist-packages (from optuna->mlforecast) (4.66.4)\n",
            "Requirement already satisfied: PyYAML in /usr/local/lib/python3.10/dist-packages (from optuna->mlforecast) (6.0.1)\n",
            "Requirement already satisfied: scipy>=1.3.2 in /usr/local/lib/python3.10/dist-packages (from scikit-learn->mlforecast) (1.11.4)\n",
            "Requirement already satisfied: joblib>=1.1.1 in /usr/local/lib/python3.10/dist-packages (from scikit-learn->mlforecast) (1.4.2)\n",
            "Requirement already satisfied: threadpoolctl>=2.0.0 in /usr/local/lib/python3.10/dist-packages (from scikit-learn->mlforecast) (3.5.0)\n",
            "Collecting Mako (from alembic>=1.5.0->optuna->mlforecast)\n",
            "  Downloading Mako-1.3.5-py3-none-any.whl (78 kB)\n",
            "\u001b[2K     \u001b[90m━━━━━━━━━━━━━━━━━━━━━━━━━━━━━━━━━━━━━━━━\u001b[0m \u001b[32m78.6/78.6 kB\u001b[0m \u001b[31m8.1 MB/s\u001b[0m eta \u001b[36m0:00:00\u001b[0m\n",
            "\u001b[?25hRequirement already satisfied: typing-extensions>=4 in /usr/local/lib/python3.10/dist-packages (from alembic>=1.5.0->optuna->mlforecast) (4.12.2)\n",
            "Requirement already satisfied: six>=1.5 in /usr/local/lib/python3.10/dist-packages (from python-dateutil>=2.8.2->pandas->mlforecast) (1.16.0)\n",
            "Requirement already satisfied: greenlet!=0.4.17 in /usr/local/lib/python3.10/dist-packages (from sqlalchemy>=1.3.0->optuna->mlforecast) (3.0.3)\n",
            "Requirement already satisfied: MarkupSafe>=0.9.2 in /usr/local/lib/python3.10/dist-packages (from Mako->alembic>=1.5.0->optuna->mlforecast) (2.1.5)\n",
            "Installing collected packages: Mako, dill, coreforecast, colorlog, window-ops, alembic, utilsforecast, optuna, mlforecast\n",
            "Successfully installed Mako-1.3.5 alembic-1.13.2 colorlog-6.8.2 coreforecast-0.0.10 dill-0.3.8 mlforecast-0.13.1 optuna-3.6.1 utilsforecast-0.1.12 window-ops-0.0.15\n"
          ]
        }
      ],
      "source": [
        "!pip install mlforecast dill"
      ]
    },
    {
      "cell_type": "markdown",
      "id": "49922627-0682-44dd-8361-0fa591de3fd9",
      "metadata": {
        "id": "49922627-0682-44dd-8361-0fa591de3fd9",
        "jp-MarkdownHeadingCollapsed": true,
        "tags": []
      },
      "source": [
        "# Importando as bibliotecas"
      ]
    },
    {
      "cell_type": "code",
      "execution_count": 3,
      "id": "b8070f36-145c-4245-9fa6-5ed8973b66a9",
      "metadata": {
        "id": "b8070f36-145c-4245-9fa6-5ed8973b66a9",
        "tags": []
      },
      "outputs": [],
      "source": [
        "import numpy as np\n",
        "import pandas as pd\n",
        "import matplotlib.pyplot as plt\n",
        "\n",
        "import dill as pickle\n",
        "\n",
        "from utilsforecast.plotting import plot_series\n",
        "\n",
        "\n",
        "from sklearn.metrics import mean_absolute_error\n",
        "from sklearn.metrics import mean_absolute_percentage_error\n",
        "from sklearn.metrics import mean_squared_error\n",
        "from sklearn.metrics import r2_score\n",
        "from math import sqrt\n",
        "\n",
        "from mlforecast.auto import (\n",
        "    AutoLightGBM,\n",
        "    AutoMLForecast,\n",
        "    AutoRandomForest,\n",
        "    AutoLinearRegression,\n",
        "    AutoElasticNet\n",
        ")\n",
        "\n",
        "import warnings\n",
        "warnings.filterwarnings('ignore')"
      ]
    },
    {
      "cell_type": "markdown",
      "id": "da1674dd-df92-4669-867b-0af230af7c98",
      "metadata": {
        "id": "da1674dd-df92-4669-867b-0af230af7c98",
        "jp-MarkdownHeadingCollapsed": true,
        "tags": []
      },
      "source": [
        "# Funcoes"
      ]
    },
    {
      "cell_type": "code",
      "execution_count": 4,
      "id": "f8fb69ac-8813-41f8-acd1-27aa97325b16",
      "metadata": {
        "id": "f8fb69ac-8813-41f8-acd1-27aa97325b16",
        "tags": []
      },
      "outputs": [],
      "source": [
        "def mean_absolute_percentage_error(y_true, y_pred):\n",
        "      y_true, y_pred = np.array(y_true), np.array(y_pred)\n",
        "      non_zero_idx = y_true != 0\n",
        "      return np.mean(np.abs((y_true[non_zero_idx] - y_pred[non_zero_idx]) / y_true[non_zero_idx])) * 100"
      ]
    },
    {
      "cell_type": "markdown",
      "id": "b1894351-8e83-46ce-9dbe-d7a6585ad1c4",
      "metadata": {
        "id": "b1894351-8e83-46ce-9dbe-d7a6585ad1c4"
      },
      "source": [
        "# Carregando os dados"
      ]
    },
    {
      "cell_type": "code",
      "execution_count": 5,
      "id": "9e73d755-b687-4006-ba7d-b1236df3f86a",
      "metadata": {
        "id": "9e73d755-b687-4006-ba7d-b1236df3f86a",
        "tags": []
      },
      "outputs": [],
      "source": [
        "bucket_uri = \"/content/drive/MyDrive/M5_full.parquet\"   "
      ]
    },
    {
      "cell_type": "code",
      "execution_count": 6,
      "id": "92a9d2ad-992c-45d8-987b-8bb1405b04c0",
      "metadata": {
        "id": "92a9d2ad-992c-45d8-987b-8bb1405b04c0",
        "tags": []
      },
      "outputs": [],
      "source": [
        "dados = pd.read_parquet(bucket_uri)"
      ]
    },
    {
      "cell_type": "code",
      "execution_count": 7,
      "id": "81e6aecd-8386-45e1-8dc5-0965ebf6837f",
      "metadata": {
        "id": "81e6aecd-8386-45e1-8dc5-0965ebf6837f",
        "tags": []
      },
      "outputs": [],
      "source": [
        "dados['date'] = pd.to_datetime(dados['date'])"
      ]
    },
    {
      "cell_type": "markdown",
      "id": "IJp3ydBGCqaI",
      "metadata": {
        "id": "IJp3ydBGCqaI"
      },
      "source": [
        "### Foi necessário remover o mês por não ser um mês completo e estava atrapalhando nas previsões"
      ]
    },
    {
      "cell_type": "code",
      "execution_count": 8,
      "id": "f614473c-9c61-4714-b8d0-fae03435e60f",
      "metadata": {
        "id": "f614473c-9c61-4714-b8d0-fae03435e60f"
      },
      "outputs": [],
      "source": [
        "ano = 2016\n",
        "mes = 5\n",
        "\n",
        "dados = dados[~((dados['date'].dt.year == ano) & (dados['date'].dt.month == mes))]"
      ]
    },
    {
      "cell_type": "code",
      "execution_count": 9,
      "id": "e9652989-ba28-4b19-bd2e-b7c222b53ec9",
      "metadata": {
        "id": "e9652989-ba28-4b19-bd2e-b7c222b53ec9",
        "tags": []
      },
      "outputs": [],
      "source": [
        "dados.set_index('date', inplace=True)"
      ]
    },
    {
      "cell_type": "markdown",
      "id": "b52ae10e-09f4-42e9-85e0-866fd6e9b4b5",
      "metadata": {
        "id": "b52ae10e-09f4-42e9-85e0-866fd6e9b4b5"
      },
      "source": [
        "# Criando a série de valor total"
      ]
    },
    {
      "cell_type": "code",
      "execution_count": 10,
      "id": "23238dab-c4bc-4549-8813-e28fa8c07314",
      "metadata": {
        "id": "23238dab-c4bc-4549-8813-e28fa8c07314",
        "tags": []
      },
      "outputs": [],
      "source": [
        "dados = dados.drop(['id', 'item_id', 'dept_id', 'cat_id', 'store_id', 'state_id'], axis=1)"
      ]
    },
    {
      "cell_type": "code",
      "execution_count": 11,
      "id": "0e271f89-f18d-4f93-b747-ae4746ae3883",
      "metadata": {
        "id": "0e271f89-f18d-4f93-b747-ae4746ae3883",
        "tags": []
      },
      "outputs": [],
      "source": [
        "valor_total = dados.resample(\"MS\").sum()"
      ]
    },
    {
      "cell_type": "markdown",
      "id": "43b66558-1cba-416a-9d65-c7a3c1718f06",
      "metadata": {
        "id": "43b66558-1cba-416a-9d65-c7a3c1718f06"
      },
      "source": [
        "## Split em treino e teste"
      ]
    },
    {
      "cell_type": "code",
      "execution_count": 12,
      "id": "515a0cea-a4ac-4862-bbd0-6095f10aebdd",
      "metadata": {
        "id": "515a0cea-a4ac-4862-bbd0-6095f10aebdd",
        "tags": []
      },
      "outputs": [],
      "source": [
        "teste_size = 6\n",
        "teste = valor_total.tail(teste_size)\n",
        "train = valor_total.drop(teste.index)"
      ]
    },
    {
      "cell_type": "code",
      "execution_count": 13,
      "id": "f8f426ef-fb54-44b9-a45a-bb07bbd20ee3",
      "metadata": {
        "id": "f8f426ef-fb54-44b9-a45a-bb07bbd20ee3",
        "tags": []
      },
      "outputs": [],
      "source": [
        "df_train = train.reset_index()\n",
        "df_test = teste.reset_index()"
      ]
    },
    {
      "cell_type": "code",
      "execution_count": 14,
      "id": "5f35098d-a9a7-4f60-b55c-6afac2ddbf0d",
      "metadata": {
        "id": "5f35098d-a9a7-4f60-b55c-6afac2ddbf0d",
        "tags": []
      },
      "outputs": [],
      "source": [
        "df_train = df_train.rename(columns={'date': 'ds',\n",
        "                                    'value': 'y'})\n",
        "\n",
        "df_test = df_test.rename(columns={'date': 'ds',\n",
        "                                  'value': 'y'})"
      ]
    },
    {
      "cell_type": "code",
      "execution_count": 15,
      "id": "cec945ff-d25a-472d-9256-94fcf9a8ffb5",
      "metadata": {
        "id": "cec945ff-d25a-472d-9256-94fcf9a8ffb5",
        "tags": []
      },
      "outputs": [],
      "source": [
        "df_train['unique_id'] = 0\n",
        "df_test['unique_id'] = 0"
      ]
    },
    {
      "cell_type": "markdown",
      "id": "932aefc6-ed81-43c8-8897-04a91ea973c9",
      "metadata": {
        "id": "932aefc6-ed81-43c8-8897-04a91ea973c9"
      },
      "source": [
        "## Analisando o melhor modelo para a previsão"
      ]
    },
    {
      "cell_type": "code",
      "execution_count": 31,
      "id": "ecfccafe-8e98-4d5c-83e9-9ea8b524e416",
      "metadata": {
        "id": "ecfccafe-8e98-4d5c-83e9-9ea8b524e416",
        "tags": []
      },
      "outputs": [],
      "source": [
        "models={\n",
        "    'lgb': AutoLightGBM(),\n",
        "    'linear_regression': AutoLinearRegression(),\n",
        "    'elastic_net': AutoElasticNet(),\n",
        "    'rf' : AutoRandomForest()\n",
        "    }"
      ]
    },
    {
      "cell_type": "code",
      "execution_count": 32,
      "id": "a69ac8dc-981f-482f-a22d-7e1aba522d61",
      "metadata": {
        "id": "a69ac8dc-981f-482f-a22d-7e1aba522d61",
        "tags": []
      },
      "outputs": [],
      "source": [
        "auto_mlf = AutoMLForecast(\n",
        "    models=models,\n",
        "    freq=\"MS\",\n",
        "    season_length=6,\n",
        ")"
      ]
    },
    {
      "cell_type": "code",
      "execution_count": 45,
      "id": "9a2edf4e-768f-4738-bc5f-9f46a769f4f9",
      "metadata": {
        "colab": {
          "base_uri": "https://localhost:8080/"
        },
        "id": "9a2edf4e-768f-4738-bc5f-9f46a769f4f9",
        "outputId": "dbf11850-8e46-4f6c-9da3-75e8d1f1c24b"
      },
      "outputs": [
        {
          "name": "stderr",
          "output_type": "stream",
          "text": [
            "[I 2024-07-10 23:51:11,431] A new study created in memory with name: no-name-1c5301a1-fdeb-41d3-9aad-4aa68a134b4b\n",
            "[I 2024-07-10 23:51:11,646] Trial 0 finished with value: 0.05246992733158944 and parameters: {'n_estimators': 169, 'lambda_l1': 0.027334069690310565, 'lambda_l2': 0.0026599310838681858, 'num_leaves': 112, 'feature_fraction': 0.7118273996694524, 'bagging_fraction': 0.8229470565333281, 'objective': 'l2', 'target_transforms_idx': 0, 'lags_idx': 0, 'lag_transforms_idx': 2}. Best is trial 0 with value: 0.05246992733158944.\n",
            "[I 2024-07-10 23:51:12,125] Trial 1 finished with value: 0.06536111564238915 and parameters: {'n_estimators': 920, 'lambda_l1': 0.15574964948467418, 'lambda_l2': 0.00014233583723829364, 'num_leaves': 722, 'feature_fraction': 0.5591372129344666, 'bagging_fraction': 0.819960510663762, 'objective': 'l2', 'target_transforms_idx': 3, 'lags_idx': 0, 'lag_transforms_idx': 1}. Best is trial 0 with value: 0.05246992733158944.\n",
            "[I 2024-07-10 23:51:12,346] Trial 2 finished with value: 0.02950952653697883 and parameters: {'n_estimators': 80, 'lambda_l1': 8.5760555256054e-05, 'lambda_l2': 0.0189968136862103, 'num_leaves': 2, 'feature_fraction': 0.8333833577228338, 'bagging_fraction': 0.8353189348090797, 'objective': 'l1', 'target_transforms_idx': 4, 'lags_idx': 1, 'lag_transforms_idx': 1}. Best is trial 2 with value: 0.02950952653697883.\n",
            "[I 2024-07-10 23:51:12,488] Trial 3 finished with value: 0.02950952653697883 and parameters: {'n_estimators': 36, 'lambda_l1': 9.848640172873773e-08, 'lambda_l2': 0.008071724032088088, 'num_leaves': 4, 'feature_fraction': 0.5982911808400267, 'bagging_fraction': 0.684362585330482, 'objective': 'l1', 'target_transforms_idx': 4, 'lags_idx': 1, 'lag_transforms_idx': 1}. Best is trial 2 with value: 0.02950952653697883.\n",
            "[I 2024-07-10 23:51:12,623] Trial 4 finished with value: 0.040528368138563094 and parameters: {'n_estimators': 68, 'lambda_l1': 5.350162224340511e-05, 'lambda_l2': 3.778569956294474e-08, 'num_leaves': 359, 'feature_fraction': 0.7833007271032876, 'bagging_fraction': 0.6326947454697227, 'objective': 'l1', 'target_transforms_idx': 1, 'lags_idx': 1, 'lag_transforms_idx': 1}. Best is trial 2 with value: 0.02950952653697883.\n",
            "[I 2024-07-10 23:51:12,750] Trial 5 finished with value: 0.040528368138563094 and parameters: {'n_estimators': 281, 'lambda_l1': 2.6919795645288304e-06, 'lambda_l2': 0.04137578048520922, 'num_leaves': 3037, 'feature_fraction': 0.624376571759979, 'bagging_fraction': 0.7880786672089184, 'objective': 'l1', 'target_transforms_idx': 1, 'lags_idx': 1, 'lag_transforms_idx': 1}. Best is trial 2 with value: 0.02950952653697883.\n",
            "[I 2024-07-10 23:51:12,768] A new study created in memory with name: no-name-b73ba4b8-a82c-4b2d-9352-d6c6bd7403b1\n",
            "[I 2024-07-10 23:51:12,890] Trial 0 finished with value: 0.03626565696844098 and parameters: {'fit_intercept': True, 'target_transforms_idx': 0, 'lags_idx': 1, 'lag_transforms_idx': 0}. Best is trial 0 with value: 0.03626565696844098.\n",
            "[I 2024-07-10 23:51:13,025] Trial 1 finished with value: 0.0733788316089935 and parameters: {'fit_intercept': False, 'target_transforms_idx': 4, 'lags_idx': 0, 'lag_transforms_idx': 2}. Best is trial 0 with value: 0.03626565696844098.\n",
            "[I 2024-07-10 23:51:13,164] Trial 2 finished with value: 0.05844989127892205 and parameters: {'fit_intercept': False, 'target_transforms_idx': 1, 'lags_idx': 0, 'lag_transforms_idx': 1}. Best is trial 0 with value: 0.03626565696844098.\n",
            "[I 2024-07-10 23:51:13,293] Trial 3 finished with value: 0.02645688876336748 and parameters: {'fit_intercept': False, 'target_transforms_idx': 0, 'lags_idx': 1, 'lag_transforms_idx': 1}. Best is trial 3 with value: 0.02645688876336748.\n",
            "[I 2024-07-10 23:51:13,451] Trial 4 finished with value: 0.12600333519585563 and parameters: {'fit_intercept': False, 'target_transforms_idx': 6, 'lags_idx': 0, 'lag_transforms_idx': 1}. Best is trial 3 with value: 0.02645688876336748.\n",
            "[I 2024-07-10 23:51:13,454] Trial 5 finished with value: inf and parameters: {'fit_intercept': True, 'target_transforms_idx': 1, 'lags_idx': 0, 'lag_transforms_idx': 0}. Best is trial 3 with value: 0.02645688876336748.\n",
            "[I 2024-07-10 23:51:13,467] A new study created in memory with name: no-name-84e607c6-3ad4-4942-85d7-fbb7a5497539\n",
            "[I 2024-07-10 23:51:13,599] Trial 0 finished with value: 0.03402185669930879 and parameters: {'fit_intercept': False, 'alpha': 6.7942483422121756, 'l1_ratio': 0.4536968445560453, 'target_transforms_idx': 2, 'lags_idx': 0, 'lag_transforms_idx': 2}. Best is trial 0 with value: 0.03402185669930879.\n",
            "[I 2024-07-10 23:51:13,727] Trial 1 finished with value: 0.0724816303102081 and parameters: {'fit_intercept': False, 'alpha': 2.736146806121542, 'l1_ratio': 0.7980468339125637, 'target_transforms_idx': 1, 'lags_idx': 1, 'lag_transforms_idx': 2}. Best is trial 0 with value: 0.03402185669930879.\n",
            "[I 2024-07-10 23:51:13,850] Trial 2 finished with value: 0.026860859972483664 and parameters: {'fit_intercept': False, 'alpha': 2.7770094342410245, 'l1_ratio': 0.5867843464581688, 'target_transforms_idx': 0, 'lags_idx': 0, 'lag_transforms_idx': 2}. Best is trial 2 with value: 0.026860859972483664.\n",
            "[I 2024-07-10 23:51:13,853] Trial 3 finished with value: inf and parameters: {'fit_intercept': True, 'alpha': 9.037293677719589, 'l1_ratio': 0.08342243544201855, 'target_transforms_idx': 2, 'lags_idx': 0, 'lag_transforms_idx': 0}. Best is trial 2 with value: 0.026860859972483664.\n",
            "[I 2024-07-10 23:51:13,858] Trial 4 finished with value: inf and parameters: {'fit_intercept': False, 'alpha': 9.774973902304723, 'l1_ratio': 0.8765052453165908, 'target_transforms_idx': 1, 'lags_idx': 0, 'lag_transforms_idx': 0}. Best is trial 2 with value: 0.026860859972483664.\n",
            "[I 2024-07-10 23:51:13,994] Trial 5 finished with value: 0.030120925995390107 and parameters: {'fit_intercept': True, 'alpha': 9.818312068792714, 'l1_ratio': 0.47837030703998806, 'target_transforms_idx': 4, 'lags_idx': 0, 'lag_transforms_idx': 1}. Best is trial 2 with value: 0.026860859972483664.\n",
            "[I 2024-07-10 23:51:14,008] A new study created in memory with name: no-name-293d160f-e80e-495d-970f-4d4d77b70ebe\n",
            "[I 2024-07-10 23:51:16,203] Trial 0 finished with value: 0.029605473588726394 and parameters: {'n_estimators': 912, 'max_depth': 8, 'min_child_samples': 34, 'max_features': 0.5405506949939984, 'criterion': 'squared_error', 'target_transforms_idx': 4, 'lags_idx': 1, 'lag_transforms_idx': 2}. Best is trial 0 with value: 0.029605473588726394.\n",
            "[I 2024-07-10 23:51:18,837] Trial 1 finished with value: 0.04558736787809017 and parameters: {'n_estimators': 868, 'max_depth': 8, 'min_child_samples': 28, 'max_features': 0.5657413996455638, 'criterion': 'absolute_error', 'target_transforms_idx': 3, 'lags_idx': 0, 'lag_transforms_idx': 1}. Best is trial 0 with value: 0.029605473588726394.\n",
            "[I 2024-07-10 23:51:19,900] Trial 2 finished with value: 0.0282545690492385 and parameters: {'n_estimators': 296, 'max_depth': 4, 'min_child_samples': 59, 'max_features': 0.6364109512122336, 'criterion': 'squared_error', 'target_transforms_idx': 2, 'lags_idx': 0, 'lag_transforms_idx': 2}. Best is trial 2 with value: 0.0282545690492385.\n",
            "[I 2024-07-10 23:51:21,098] Trial 3 finished with value: 0.04097757843543116 and parameters: {'n_estimators': 559, 'max_depth': 7, 'min_child_samples': 28, 'max_features': 0.5644302827331601, 'criterion': 'absolute_error', 'target_transforms_idx': 1, 'lags_idx': 1, 'lag_transforms_idx': 1}. Best is trial 2 with value: 0.0282545690492385.\n",
            "[I 2024-07-10 23:51:22,775] Trial 4 finished with value: 0.02934002965318043 and parameters: {'n_estimators': 769, 'max_depth': 7, 'min_child_samples': 25, 'max_features': 0.5802694112426282, 'criterion': 'absolute_error', 'target_transforms_idx': 4, 'lags_idx': 0, 'lag_transforms_idx': 1}. Best is trial 2 with value: 0.0282545690492385.\n",
            "[I 2024-07-10 23:51:22,779] Trial 5 finished with value: inf and parameters: {'n_estimators': 109, 'max_depth': 5, 'min_child_samples': 26, 'max_features': 0.9245191542142555, 'criterion': 'absolute_error', 'target_transforms_idx': 5, 'lags_idx': 0, 'lag_transforms_idx': 0}. Best is trial 2 with value: 0.0282545690492385.\n"
          ]
        },
        {
          "data": {
            "text/plain": [
              "AutoMLForecast(models={'lgb': AutoModel(model=LGBMRegressor), 'linear_regression': AutoModel(model=LinearRegression), 'elastic_net': AutoModel(model=ElasticNet), 'rf': AutoModel(model=RandomForestRegressor)})"
            ]
          },
          "execution_count": 45,
          "metadata": {},
          "output_type": "execute_result"
        }
      ],
      "source": [
        "auto_mlf.fit(\n",
        "    df_train,\n",
        "    n_windows=3,\n",
        "    h=6,\n",
        "    num_samples=6,\n",
        ")"
      ]
    },
    {
      "cell_type": "code",
      "execution_count": 46,
      "id": "f5f9d677-6a1b-4b06-a47e-76bae1a55246",
      "metadata": {
        "id": "f5f9d677-6a1b-4b06-a47e-76bae1a55246",
        "tags": []
      },
      "outputs": [],
      "source": [
        "preds = auto_mlf.predict(6)"
      ]
    },
    {
      "cell_type": "code",
      "execution_count": 47,
      "id": "5e301106-c1c7-4e79-b361-9ab90b47d2f0",
      "metadata": {
        "id": "5e301106-c1c7-4e79-b361-9ab90b47d2f0",
        "tags": []
      },
      "outputs": [],
      "source": [
        "for i in list(models.keys()):\n",
        "  preds[i] = preds[i].astype(int)"
      ]
    },
    {
      "cell_type": "markdown",
      "id": "0McCkU-1DEzp",
      "metadata": {
        "id": "0McCkU-1DEzp"
      },
      "source": [
        "## Analisando o resultado dos modelos por gráficos"
      ]
    },
    {
      "cell_type": "code",
      "execution_count": 48,
      "id": "46cefc46-d55c-46f0-b66b-750e96c2f220",
      "metadata": {
        "colab": {
          "base_uri": "https://localhost:8080/",
          "height": 260
        },
        "id": "46cefc46-d55c-46f0-b66b-750e96c2f220",
        "outputId": "a1a8c7a5-8674-4a01-9fcd-d6e99de6959f",
        "tags": []
      },
      "outputs": [
        {
          "data": {
            "image/png": "[encoded data removed]",
            "text/plain": [
              "<Figure size 2400x350 with 1 Axes>"
            ]
          },
          "execution_count": 48,
          "metadata": {},
          "output_type": "execute_result"
        }
      ],
      "source": [
        "plot_series(df_test, preds, plot_random=False)"
      ]
    },
    {
      "cell_type": "markdown",
      "id": "JSqU7s7CDM9c",
      "metadata": {
        "id": "JSqU7s7CDM9c"
      },
      "source": [
        "## Validando as métricas"
      ]
    },
    {
      "cell_type": "code",
      "execution_count": 49,
      "id": "cd8bbb29-eea6-4b41-9dbb-5ebca4c2821c",
      "metadata": {
        "id": "cd8bbb29-eea6-4b41-9dbb-5ebca4c2821c",
        "tags": []
      },
      "outputs": [],
      "source": [
        "previsao_full = df_test.merge(preds, how='right', on=['unique_id', 'ds'])"
      ]
    },
    {
      "cell_type": "code",
      "execution_count": 50,
      "id": "e009c473-e1bf-4b5b-a745-8488105b7b34",
      "metadata": {
        "colab": {
          "base_uri": "https://localhost:8080/",
          "height": 238
        },
        "id": "e009c473-e1bf-4b5b-a745-8488105b7b34",
        "outputId": "5e653ced-bfd4-4b1b-e88d-d870a9ccc4ea",
        "tags": []
      },
      "outputs": [
        {
          "data": {
            "application/vnd.google.colaboratory.intrinsic+json": {
              "summary": "{\n  \"name\": \"previsao_full\",\n  \"rows\": 6,\n  \"fields\": [\n    {\n      \"column\": \"ds\",\n      \"properties\": {\n        \"dtype\": \"date\",\n        \"min\": \"2015-11-01 00:00:00\",\n        \"max\": \"2016-04-01 00:00:00\",\n        \"num_unique_values\": 6,\n        \"samples\": [\n          \"2015-11-01 00:00:00\",\n          \"2015-12-01 00:00:00\",\n          \"2016-04-01 00:00:00\"\n        ],\n        \"semantic_type\": \"\",\n        \"description\": \"\"\n      }\n    },\n    {\n      \"column\": \"y\",\n      \"properties\": {\n        \"dtype\": \"number\",\n        \"std\": 71860,\n        \"min\": 1113976,\n        \"max\": 1283470,\n        \"num_unique_values\": 6,\n        \"samples\": [\n          1113976,\n          1126236,\n          1283470\n        ],\n        \"semantic_type\": \"\",\n        \"description\": \"\"\n      }\n    },\n    {\n      \"column\": \"unique_id\",\n      \"properties\": {\n        \"dtype\": \"number\",\n        \"std\": 0,\n        \"min\": 0,\n        \"max\": 0,\n        \"num_unique_values\": 1,\n        \"samples\": [\n          0\n        ],\n        \"semantic_type\": \"\",\n        \"description\": \"\"\n      }\n    },\n    {\n      \"column\": \"lgb\",\n      \"properties\": {\n        \"dtype\": \"number\",\n        \"std\": 28764,\n        \"min\": 1222146,\n        \"max\": 1305250,\n        \"num_unique_values\": 6,\n        \"samples\": [\n          1222146\n        ],\n        \"semantic_type\": \"\",\n        \"description\": \"\"\n      }\n    },\n    {\n      \"column\": \"linear_regression\",\n      \"properties\": {\n        \"dtype\": \"number\",\n        \"std\": 17393,\n        \"min\": 1253916,\n        \"max\": 1300658,\n        \"num_unique_values\": 6,\n        \"samples\": [\n          1253916\n        ],\n        \"semantic_type\": \"\",\n        \"description\": \"\"\n      }\n    },\n    {\n      \"column\": \"elastic_net\",\n      \"properties\": {\n        \"dtype\": \"number\",\n        \"std\": 17728,\n        \"min\": 1253133,\n        \"max\": 1300497,\n        \"num_unique_values\": 6,\n        \"samples\": [\n          1253133\n        ],\n        \"semantic_type\": \"\",\n        \"description\": \"\"\n      }\n    },\n    {\n      \"column\": \"rf\",\n      \"properties\": {\n        \"dtype\": \"number\",\n        \"std\": 16291,\n        \"min\": 1257145,\n        \"max\": 1300686,\n        \"num_unique_values\": 6,\n        \"samples\": [\n          1257145\n        ],\n        \"semantic_type\": \"\",\n        \"description\": \"\"\n      }\n    }\n  ]\n}",
              "type": "dataframe",
              "variable_name": "previsao_full"
            },
            "text/html": [
              "\n",
              "  <div id=\"df-9e4435d3-a11d-4d52-834e-c114b2e7f9df\" class=\"colab-df-container\">\n",
              "    <div>\n",
              "<style scoped>\n",
              "    .dataframe tbody tr th:only-of-type {\n",
              "        vertical-align: middle;\n",
              "    }\n",
              "\n",
              "    .dataframe tbody tr th {\n",
              "        vertical-align: top;\n",
              "    }\n",
              "\n",
              "    .dataframe thead th {\n",
              "        text-align: right;\n",
              "    }\n",
              "</style>\n",
              "<table border=\"1\" class=\"dataframe\">\n",
              "  <thead>\n",
              "    <tr style=\"text-align: right;\">\n",
              "      <th></th>\n",
              "      <th>ds</th>\n",
              "      <th>y</th>\n",
              "      <th>unique_id</th>\n",
              "      <th>lgb</th>\n",
              "      <th>linear_regression</th>\n",
              "      <th>elastic_net</th>\n",
              "      <th>rf</th>\n",
              "    </tr>\n",
              "  </thead>\n",
              "  <tbody>\n",
              "    <tr>\n",
              "      <th>0</th>\n",
              "      <td>2015-11-01</td>\n",
              "      <td>1113976</td>\n",
              "      <td>0</td>\n",
              "      <td>1222146</td>\n",
              "      <td>1253916</td>\n",
              "      <td>1253133</td>\n",
              "      <td>1257145</td>\n",
              "    </tr>\n",
              "    <tr>\n",
              "      <th>1</th>\n",
              "      <td>2015-12-01</td>\n",
              "      <td>1126236</td>\n",
              "      <td>0</td>\n",
              "      <td>1272436</td>\n",
              "      <td>1263843</td>\n",
              "      <td>1262308</td>\n",
              "      <td>1265853</td>\n",
              "    </tr>\n",
              "    <tr>\n",
              "      <th>2</th>\n",
              "      <td>2016-01-01</td>\n",
              "      <td>1215286</td>\n",
              "      <td>0</td>\n",
              "      <td>1245640</td>\n",
              "      <td>1272623</td>\n",
              "      <td>1271626</td>\n",
              "      <td>1274561</td>\n",
              "    </tr>\n",
              "    <tr>\n",
              "      <th>3</th>\n",
              "      <td>2016-02-01</td>\n",
              "      <td>1212927</td>\n",
              "      <td>0</td>\n",
              "      <td>1254370</td>\n",
              "      <td>1281342</td>\n",
              "      <td>1281150</td>\n",
              "      <td>1283270</td>\n",
              "    </tr>\n",
              "    <tr>\n",
              "      <th>4</th>\n",
              "      <td>2016-03-01</td>\n",
              "      <td>1275746</td>\n",
              "      <td>0</td>\n",
              "      <td>1305250</td>\n",
              "      <td>1291479</td>\n",
              "      <td>1290745</td>\n",
              "      <td>1291978</td>\n",
              "    </tr>\n",
              "    <tr>\n",
              "      <th>5</th>\n",
              "      <td>2016-04-01</td>\n",
              "      <td>1283470</td>\n",
              "      <td>0</td>\n",
              "      <td>1277763</td>\n",
              "      <td>1300658</td>\n",
              "      <td>1300497</td>\n",
              "      <td>1300686</td>\n",
              "    </tr>\n",
              "  </tbody>\n",
              "</table>\n",
              "</div>\n",
              "    <div class=\"colab-df-buttons\">\n",
              "\n",
              "  <div class=\"colab-df-container\">\n",
              "    <button class=\"colab-df-convert\" onclick=\"convertToInteractive('df-9e4435d3-a11d-4d52-834e-c114b2e7f9df')\"\n",
              "            title=\"Convert this dataframe to an interactive table.\"\n",
              "            style=\"display:none;\">\n",
              "\n",
              "  <svg xmlns=\"http://www.w3.org/2000/svg\" height=\"24px\" viewBox=\"0 -960 960 960\">\n",
              "    <path d=\"M120-120v-720h720v720H120Zm60-500h600v-160H180v160Zm220 220h160v-160H400v160Zm0 220h160v-160H400v160ZM180-400h160v-160H180v160Zm440 0h160v-160H620v160ZM180-180h160v-160H180v160Zm440 0h160v-160H620v160Z\"/>\n",
              "  </svg>\n",
              "    </button>\n",
              "\n",
              "  <style>\n",
              "    .colab-df-container {\n",
              "      display:flex;\n",
              "      gap: 12px;\n",
              "    }\n",
              "\n",
              "    .colab-df-convert {\n",
              "      background-color: #E8F0FE;\n",
              "      border: none;\n",
              "      border-radius: 50%;\n",
              "      cursor: pointer;\n",
              "      display: none;\n",
              "      fill: #1967D2;\n",
              "      height: 32px;\n",
              "      padding: 0 0 0 0;\n",
              "      width: 32px;\n",
              "    }\n",
              "\n",
              "    .colab-df-convert:hover {\n",
              "      background-color: #E2EBFA;\n",
              "      box-shadow: 0px 1px 2px rgba(60, 64, 67, 0.3), 0px 1px 3px 1px rgba(60, 64, 67, 0.15);\n",
              "      fill: #174EA6;\n",
              "    }\n",
              "\n",
              "    .colab-df-buttons div {\n",
              "      margin-bottom: 4px;\n",
              "    }\n",
              "\n",
              "    [theme=dark] .colab-df-convert {\n",
              "      background-color: #3B4455;\n",
              "      fill: #D2E3FC;\n",
              "    }\n",
              "\n",
              "    [theme=dark] .colab-df-convert:hover {\n",
              "      background-color: #434B5C;\n",
              "      box-shadow: 0px 1px 3px 1px rgba(0, 0, 0, 0.15);\n",
              "      filter: drop-shadow(0px 1px 2px rgba(0, 0, 0, 0.3));\n",
              "      fill: #FFFFFF;\n",
              "    }\n",
              "  </style>\n",
              "\n",
              "    <script>\n",
              "      const buttonEl =\n",
              "        document.querySelector('#df-9e4435d3-a11d-4d52-834e-c114b2e7f9df button.colab-df-convert');\n",
              "      buttonEl.style.display =\n",
              "        google.colab.kernel.accessAllowed ? 'block' : 'none';\n",
              "\n",
              "      async function convertToInteractive(key) {\n",
              "        const element = document.querySelector('#df-9e4435d3-a11d-4d52-834e-c114b2e7f9df');\n",
              "        const dataTable =\n",
              "          await google.colab.kernel.invokeFunction('convertToInteractive',\n",
              "                                                    [key], {});\n",
              "        if (!dataTable) return;\n",
              "\n",
              "        const docLinkHtml = 'Like what you see? Visit the ' +\n",
              "          '<a target=\"_blank\" href=https://colab.research.google.com/notebooks/data_table.ipynb>data table notebook</a>'\n",
              "          + ' to learn more about interactive tables.';\n",
              "        element.innerHTML = '';\n",
              "        dataTable['output_type'] = 'display_data';\n",
              "        await google.colab.output.renderOutput(dataTable, element);\n",
              "        const docLink = document.createElement('div');\n",
              "        docLink.innerHTML = docLinkHtml;\n",
              "        element.appendChild(docLink);\n",
              "      }\n",
              "    </script>\n",
              "  </div>\n",
              "\n",
              "\n",
              "<div id=\"df-4692923b-1e28-48cd-8c59-6dfe76e80903\">\n",
              "  <button class=\"colab-df-quickchart\" onclick=\"quickchart('df-4692923b-1e28-48cd-8c59-6dfe76e80903')\"\n",
              "            title=\"Suggest charts\"\n",
              "            style=\"display:none;\">\n",
              "\n",
              "<svg xmlns=\"http://www.w3.org/2000/svg\" height=\"24px\"viewBox=\"0 0 24 24\"\n",
              "     width=\"24px\">\n",
              "    <g>\n",
              "        <path d=\"M19 3H5c-1.1 0-2 .9-2 2v14c0 1.1.9 2 2 2h14c1.1 0 2-.9 2-2V5c0-1.1-.9-2-2-2zM9 17H7v-7h2v7zm4 0h-2V7h2v10zm4 0h-2v-4h2v4z\"/>\n",
              "    </g>\n",
              "</svg>\n",
              "  </button>\n",
              "\n",
              "<style>\n",
              "  .colab-df-quickchart {\n",
              "      --bg-color: #E8F0FE;\n",
              "      --fill-color: #1967D2;\n",
              "      --hover-bg-color: #E2EBFA;\n",
              "      --hover-fill-color: #174EA6;\n",
              "      --disabled-fill-color: #AAA;\n",
              "      --disabled-bg-color: #DDD;\n",
              "  }\n",
              "\n",
              "  [theme=dark] .colab-df-quickchart {\n",
              "      --bg-color: #3B4455;\n",
              "      --fill-color: #D2E3FC;\n",
              "      --hover-bg-color: #434B5C;\n",
              "      --hover-fill-color: #FFFFFF;\n",
              "      --disabled-bg-color: #3B4455;\n",
              "      --disabled-fill-color: #666;\n",
              "  }\n",
              "\n",
              "  .colab-df-quickchart {\n",
              "    background-color: var(--bg-color);\n",
              "    border: none;\n",
              "    border-radius: 50%;\n",
              "    cursor: pointer;\n",
              "    display: none;\n",
              "    fill: var(--fill-color);\n",
              "    height: 32px;\n",
              "    padding: 0;\n",
              "    width: 32px;\n",
              "  }\n",
              "\n",
              "  .colab-df-quickchart:hover {\n",
              "    background-color: var(--hover-bg-color);\n",
              "    box-shadow: 0 1px 2px rgba(60, 64, 67, 0.3), 0 1px 3px 1px rgba(60, 64, 67, 0.15);\n",
              "    fill: var(--button-hover-fill-color);\n",
              "  }\n",
              "\n",
              "  .colab-df-quickchart-complete:disabled,\n",
              "  .colab-df-quickchart-complete:disabled:hover {\n",
              "    background-color: var(--disabled-bg-color);\n",
              "    fill: var(--disabled-fill-color);\n",
              "    box-shadow: none;\n",
              "  }\n",
              "\n",
              "  .colab-df-spinner {\n",
              "    border: 2px solid var(--fill-color);\n",
              "    border-color: transparent;\n",
              "    border-bottom-color: var(--fill-color);\n",
              "    animation:\n",
              "      spin 1s steps(1) infinite;\n",
              "  }\n",
              "\n",
              "  @keyframes spin {\n",
              "    0% {\n",
              "      border-color: transparent;\n",
              "      border-bottom-color: var(--fill-color);\n",
              "      border-left-color: var(--fill-color);\n",
              "    }\n",
              "    20% {\n",
              "      border-color: transparent;\n",
              "      border-left-color: var(--fill-color);\n",
              "      border-top-color: var(--fill-color);\n",
              "    }\n",
              "    30% {\n",
              "      border-color: transparent;\n",
              "      border-left-color: var(--fill-color);\n",
              "      border-top-color: var(--fill-color);\n",
              "      border-right-color: var(--fill-color);\n",
              "    }\n",
              "    40% {\n",
              "      border-color: transparent;\n",
              "      border-right-color: var(--fill-color);\n",
              "      border-top-color: var(--fill-color);\n",
              "    }\n",
              "    60% {\n",
              "      border-color: transparent;\n",
              "      border-right-color: var(--fill-color);\n",
              "    }\n",
              "    80% {\n",
              "      border-color: transparent;\n",
              "      border-right-color: var(--fill-color);\n",
              "      border-bottom-color: var(--fill-color);\n",
              "    }\n",
              "    90% {\n",
              "      border-color: transparent;\n",
              "      border-bottom-color: var(--fill-color);\n",
              "    }\n",
              "  }\n",
              "</style>\n",
              "\n",
              "  <script>\n",
              "    async function quickchart(key) {\n",
              "      const quickchartButtonEl =\n",
              "        document.querySelector('#' + key + ' button');\n",
              "      quickchartButtonEl.disabled = true;  // To prevent multiple clicks.\n",
              "      quickchartButtonEl.classList.add('colab-df-spinner');\n",
              "      try {\n",
              "        const charts = await google.colab.kernel.invokeFunction(\n",
              "            'suggestCharts', [key], {});\n",
              "      } catch (error) {\n",
              "        console.error('Error during call to suggestCharts:', error);\n",
              "      }\n",
              "      quickchartButtonEl.classList.remove('colab-df-spinner');\n",
              "      quickchartButtonEl.classList.add('colab-df-quickchart-complete');\n",
              "    }\n",
              "    (() => {\n",
              "      let quickchartButtonEl =\n",
              "        document.querySelector('#df-4692923b-1e28-48cd-8c59-6dfe76e80903 button');\n",
              "      quickchartButtonEl.style.display =\n",
              "        google.colab.kernel.accessAllowed ? 'block' : 'none';\n",
              "    })();\n",
              "  </script>\n",
              "</div>\n",
              "\n",
              "  <div id=\"id_9b100de6-6b83-4b61-a794-654b018800e7\">\n",
              "    <style>\n",
              "      .colab-df-generate {\n",
              "        background-color: #E8F0FE;\n",
              "        border: none;\n",
              "        border-radius: 50%;\n",
              "        cursor: pointer;\n",
              "        display: none;\n",
              "        fill: #1967D2;\n",
              "        height: 32px;\n",
              "        padding: 0 0 0 0;\n",
              "        width: 32px;\n",
              "      }\n",
              "\n",
              "      .colab-df-generate:hover {\n",
              "        background-color: #E2EBFA;\n",
              "        box-shadow: 0px 1px 2px rgba(60, 64, 67, 0.3), 0px 1px 3px 1px rgba(60, 64, 67, 0.15);\n",
              "        fill: #174EA6;\n",
              "      }\n",
              "\n",
              "      [theme=dark] .colab-df-generate {\n",
              "        background-color: #3B4455;\n",
              "        fill: #D2E3FC;\n",
              "      }\n",
              "\n",
              "      [theme=dark] .colab-df-generate:hover {\n",
              "        background-color: #434B5C;\n",
              "        box-shadow: 0px 1px 3px 1px rgba(0, 0, 0, 0.15);\n",
              "        filter: drop-shadow(0px 1px 2px rgba(0, 0, 0, 0.3));\n",
              "        fill: #FFFFFF;\n",
              "      }\n",
              "    </style>\n",
              "    <button class=\"colab-df-generate\" onclick=\"generateWithVariable('previsao_full')\"\n",
              "            title=\"Generate code using this dataframe.\"\n",
              "            style=\"display:none;\">\n",
              "\n",
              "  <svg xmlns=\"http://www.w3.org/2000/svg\" height=\"24px\"viewBox=\"0 0 24 24\"\n",
              "       width=\"24px\">\n",
              "    <path d=\"M7,19H8.4L18.45,9,17,7.55,7,17.6ZM5,21V16.75L18.45,3.32a2,2,0,0,1,2.83,0l1.4,1.43a1.91,1.91,0,0,1,.58,1.4,1.91,1.91,0,0,1-.58,1.4L9.25,21ZM18.45,9,17,7.55Zm-12,3A5.31,5.31,0,0,0,4.9,8.1,5.31,5.31,0,0,0,1,6.5,5.31,5.31,0,0,0,4.9,4.9,5.31,5.31,0,0,0,6.5,1,5.31,5.31,0,0,0,8.1,4.9,5.31,5.31,0,0,0,12,6.5,5.46,5.46,0,0,0,6.5,12Z\"/>\n",
              "  </svg>\n",
              "    </button>\n",
              "    <script>\n",
              "      (() => {\n",
              "      const buttonEl =\n",
              "        document.querySelector('#id_9b100de6-6b83-4b61-a794-654b018800e7 button.colab-df-generate');\n",
              "      buttonEl.style.display =\n",
              "        google.colab.kernel.accessAllowed ? 'block' : 'none';\n",
              "\n",
              "      buttonEl.onclick = () => {\n",
              "        google.colab.notebook.generateWithVariable('previsao_full');\n",
              "      }\n",
              "      })();\n",
              "    </script>\n",
              "  </div>\n",
              "\n",
              "    </div>\n",
              "  </div>\n"
            ],
            "text/plain": [
              "          ds        y  unique_id      lgb  linear_regression  elastic_net  \\\n",
              "0 2015-11-01  1113976          0  1222146            1253916      1253133   \n",
              "1 2015-12-01  1126236          0  1272436            1263843      1262308   \n",
              "2 2016-01-01  1215286          0  1245640            1272623      1271626   \n",
              "3 2016-02-01  1212927          0  1254370            1281342      1281150   \n",
              "4 2016-03-01  1275746          0  1305250            1291479      1290745   \n",
              "5 2016-04-01  1283470          0  1277763            1300658      1300497   \n",
              "\n",
              "        rf  \n",
              "0  1257145  \n",
              "1  1265853  \n",
              "2  1274561  \n",
              "3  1283270  \n",
              "4  1291978  \n",
              "5  1300686  "
            ]
          },
          "execution_count": 50,
          "metadata": {},
          "output_type": "execute_result"
        }
      ],
      "source": [
        "previsao_full"
      ]
    },
    {
      "cell_type": "code",
      "execution_count": 51,
      "id": "d7a72c48-5238-408b-9765-f974c6a565bc",
      "metadata": {
        "colab": {
          "base_uri": "https://localhost:8080/"
        },
        "id": "d7a72c48-5238-408b-9765-f974c6a565bc",
        "outputId": "c6de118c-8d07-4183-c36e-8a2e652b4732",
        "tags": []
      },
      "outputs": [
        {
          "name": "stdout",
          "output_type": "stream",
          "text": [
            "----------------lgb-------------------\n",
            "Mean Absolute Error: 60229.666666666664\n",
            "Mean absolute percentage error: 5.227226049652311\n",
            "Root mean squared error: 78120.77437105532\n",
            "R2: -0.4182031004214366\n",
            "\n",
            "\n",
            "----------------linear_regression-------------------\n",
            "Mean Absolute Error: 72703.33333333333\n",
            "Mean absolute percentage error: 6.285235381084636\n",
            "Root mean squared error: 88534.35159680487\n",
            "R2: -0.8214991514997108\n",
            "\n",
            "\n",
            "----------------elastic_net-------------------\n",
            "Mean Absolute Error: 71969.66666666667\n",
            "Mean absolute percentage error: 6.222813659246329\n",
            "Root mean squared error: 87772.16898690989\n",
            "R2: -0.7902719718590434\n",
            "\n",
            "\n",
            "----------------rf-------------------\n",
            "Mean Absolute Error: 74308.66666666667\n",
            "Mean absolute percentage error: 6.4232440688723536\n",
            "Root mean squared error: 90380.49292113131\n",
            "R2: -0.898255917877097\n",
            "\n",
            "\n"
          ]
        }
      ],
      "source": [
        "for i in list(models.keys()):\n",
        "  print(f'----------------{i}-------------------')\n",
        "  MAE = mean_absolute_error(previsao_full['y'], previsao_full[i])\n",
        "  print(f'Mean Absolute Error: {MAE}')\n",
        "\n",
        "  MAPE = mean_absolute_percentage_error(previsao_full['y'], previsao_full[i])\n",
        "  print(f'Mean absolute percentage error: {MAPE}')\n",
        "\n",
        "  RMSE = sqrt(mean_squared_error(previsao_full[i], previsao_full['y']))\n",
        "  print(f'Root mean squared error: {RMSE}')\n",
        "\n",
        "  R2 = r2_score(previsao_full['y'], previsao_full[i])\n",
        "  print(f'R2: {R2}')\n",
        "  print('\\n')"
      ]
    },
    {
      "cell_type": "code",
      "execution_count": 52,
      "id": "90267d48-487b-4c53-bcca-7b1b8c69ca7a",
      "metadata": {
        "colab": {
          "base_uri": "https://localhost:8080/",
          "height": 260
        },
        "id": "90267d48-487b-4c53-bcca-7b1b8c69ca7a",
        "outputId": "5a1d2677-1279-4c7c-fa24-384143d52206",
        "tags": []
      },
      "outputs": [
        {
          "data": {
            "image/png": "[encoded data removed]",
            "text/plain": [
              "<Figure size 2400x350 with 1 Axes>"
            ]
          },
          "execution_count": 52,
          "metadata": {},
          "output_type": "execute_result"
        }
      ],
      "source": [
        "plot_series(df_test, preds[['unique_id', 'ds', 'lgb']], plot_random=False)"
      ]
    },
    {
      "cell_type": "code",
      "execution_count": 53,
      "id": "7cd35d17-84d7-4518-8c58-ccd630316674",
      "metadata": {
        "id": "7cd35d17-84d7-4518-8c58-ccd630316674"
      },
      "outputs": [],
      "source": [
        "tabela_validacao = previsao_full[['unique_id', 'ds', 'y', 'lgb']]"
      ]
    },
    {
      "cell_type": "markdown",
      "id": "7cac9a8c-0124-40ac-bc7c-f0858462ced9",
      "metadata": {
        "id": "7cac9a8c-0124-40ac-bc7c-f0858462ced9"
      },
      "source": [
        "## Fazendo a previsão para os próximos 6 meses"
      ]
    },
    {
      "cell_type": "code",
      "execution_count": 54,
      "id": "30af6d52-c479-48be-b585-856387fe05d3",
      "metadata": {
        "id": "30af6d52-c479-48be-b585-856387fe05d3",
        "tags": []
      },
      "outputs": [],
      "source": [
        "dados_full = pd.concat([df_train, df_test])"
      ]
    },
    {
      "cell_type": "code",
      "execution_count": 55,
      "id": "0423922c-8e0b-44c4-b68f-a392e2407977",
      "metadata": {
        "id": "0423922c-8e0b-44c4-b68f-a392e2407977"
      },
      "outputs": [],
      "source": [
        "models_full ={\n",
        "    'lgb': AutoLightGBM()\n",
        "        }"
      ]
    },
    {
      "cell_type": "code",
      "execution_count": 56,
      "id": "c15f2e45-4e7f-4f1c-8770-a95261d7036c",
      "metadata": {
        "id": "c15f2e45-4e7f-4f1c-8770-a95261d7036c"
      },
      "outputs": [],
      "source": [
        "auto_mlf_full = AutoMLForecast(\n",
        "    models=models_full,\n",
        "    freq=\"MS\",\n",
        "    season_length=6,\n",
        ")"
      ]
    },
    {
      "cell_type": "code",
      "execution_count": 57,
      "id": "4b934f1f-ba22-4cc9-a8fb-27e72a48226a",
      "metadata": {
        "colab": {
          "base_uri": "https://localhost:8080/"
        },
        "id": "4b934f1f-ba22-4cc9-a8fb-27e72a48226a",
        "outputId": "ed157231-6155-4228-ce00-7ea200e18965"
      },
      "outputs": [
        {
          "name": "stderr",
          "output_type": "stream",
          "text": [
            "[I 2024-07-10 23:52:02,638] A new study created in memory with name: no-name-5661faa2-3b4e-4a7e-bb36-aac735f0f4dd\n",
            "[I 2024-07-10 23:52:02,852] Trial 0 finished with value: 0.0573144961213212 and parameters: {'n_estimators': 169, 'lambda_l1': 0.027334069690310565, 'lambda_l2': 0.0026599310838681858, 'num_leaves': 112, 'feature_fraction': 0.7118273996694524, 'bagging_fraction': 0.8229470565333281, 'objective': 'l2', 'target_transforms_idx': 0, 'lags_idx': 0, 'lag_transforms_idx': 2}. Best is trial 0 with value: 0.0573144961213212.\n",
            "[I 2024-07-10 23:52:03,098] Trial 1 finished with value: 0.0324929093690792 and parameters: {'n_estimators': 920, 'lambda_l1': 0.15574964948467418, 'lambda_l2': 0.00014233583723829364, 'num_leaves': 722, 'feature_fraction': 0.5591372129344666, 'bagging_fraction': 0.819960510663762, 'objective': 'l2', 'target_transforms_idx': 3, 'lags_idx': 0, 'lag_transforms_idx': 1}. Best is trial 1 with value: 0.0324929093690792.\n",
            "[I 2024-07-10 23:52:03,236] Trial 2 finished with value: 0.03320308785506349 and parameters: {'n_estimators': 80, 'lambda_l1': 8.5760555256054e-05, 'lambda_l2': 0.0189968136862103, 'num_leaves': 2, 'feature_fraction': 0.8333833577228338, 'bagging_fraction': 0.8353189348090797, 'objective': 'l1', 'target_transforms_idx': 4, 'lags_idx': 1, 'lag_transforms_idx': 1}. Best is trial 1 with value: 0.0324929093690792.\n",
            "[I 2024-07-10 23:52:03,371] Trial 3 finished with value: 0.03320308785506349 and parameters: {'n_estimators': 36, 'lambda_l1': 9.848640172873773e-08, 'lambda_l2': 0.008071724032088088, 'num_leaves': 4, 'feature_fraction': 0.5982911808400267, 'bagging_fraction': 0.684362585330482, 'objective': 'l1', 'target_transforms_idx': 4, 'lags_idx': 1, 'lag_transforms_idx': 1}. Best is trial 1 with value: 0.0324929093690792.\n",
            "[I 2024-07-10 23:52:03,515] Trial 4 finished with value: 0.043215010771058465 and parameters: {'n_estimators': 68, 'lambda_l1': 5.350162224340511e-05, 'lambda_l2': 3.778569956294474e-08, 'num_leaves': 359, 'feature_fraction': 0.7833007271032876, 'bagging_fraction': 0.6326947454697227, 'objective': 'l1', 'target_transforms_idx': 1, 'lags_idx': 1, 'lag_transforms_idx': 1}. Best is trial 1 with value: 0.0324929093690792.\n",
            "[I 2024-07-10 23:52:03,644] Trial 5 finished with value: 0.043215010771058465 and parameters: {'n_estimators': 281, 'lambda_l1': 2.6919795645288304e-06, 'lambda_l2': 0.04137578048520922, 'num_leaves': 3037, 'feature_fraction': 0.624376571759979, 'bagging_fraction': 0.7880786672089184, 'objective': 'l1', 'target_transforms_idx': 1, 'lags_idx': 1, 'lag_transforms_idx': 1}. Best is trial 1 with value: 0.0324929093690792.\n"
          ]
        },
        {
          "data": {
            "text/plain": [
              "AutoMLForecast(models={'lgb': AutoModel(model=LGBMRegressor)})"
            ]
          },
          "execution_count": 57,
          "metadata": {},
          "output_type": "execute_result"
        }
      ],
      "source": [
        "auto_mlf_full.fit(\n",
        "    dados_full,\n",
        "    n_windows=3,\n",
        "    h=6,\n",
        "    num_samples=6,\n",
        ")"
      ]
    },
    {
      "cell_type": "code",
      "execution_count": 58,
      "id": "40583cea-c782-4849-a140-7e7d3e6ff55e",
      "metadata": {
        "id": "40583cea-c782-4849-a140-7e7d3e6ff55e"
      },
      "outputs": [],
      "source": [
        "preds_full = auto_mlf_full.predict(6)"
      ]
    },
    {
      "cell_type": "code",
      "execution_count": 59,
      "id": "f20f3a82-0264-4f12-b987-3f719e92ed0d",
      "metadata": {
        "id": "f20f3a82-0264-4f12-b987-3f719e92ed0d",
        "tags": []
      },
      "outputs": [],
      "source": [
        "for i in list(models_full.keys()):\n",
        "  preds_full[i] = preds_full[i].astype(int)"
      ]
    },
    {
      "cell_type": "markdown",
      "id": "70064ab9-0d84-48d3-a5f5-b209b4e36737",
      "metadata": {
        "id": "70064ab9-0d84-48d3-a5f5-b209b4e36737"
      },
      "source": [
        "# Exportando os arquivos"
      ]
    },
    {
      "cell_type": "markdown",
      "id": "0004d990-7242-4f2b-986f-d80c92f779e2",
      "metadata": {
        "id": "0004d990-7242-4f2b-986f-d80c92f779e2"
      },
      "source": [
        "# Exportando o pickle"
      ]
    },
    {
      "cell_type": "code",
      "execution_count": 61,
      "id": "3a09972d-a5da-4fbe-8672-49c033749ac0",
      "metadata": {
        "id": "3a09972d-a5da-4fbe-8672-49c033749ac0",
        "tags": []
      },
      "outputs": [],
      "source": [
        "# with open('valores.pkl', 'wb') as f:\n",
        "#     pickle.dump(auto_mlf_full, f)"
      ]
    },
    {
      "cell_type": "markdown",
      "id": "0eb79ee3-7fc8-48b9-bab0-8629fa1e6a42",
      "metadata": {
        "id": "0eb79ee3-7fc8-48b9-bab0-8629fa1e6a42"
      },
      "source": [
        "# Previsão futuro"
      ]
    },
    {
      "cell_type": "code",
      "execution_count": 62,
      "id": "a77d8cb5-0da1-4056-bfec-1f497da52794",
      "metadata": {
        "id": "a77d8cb5-0da1-4056-bfec-1f497da52794",
        "tags": []
      },
      "outputs": [],
      "source": [
        "# preds_full.to_csv('previsao_valor.csv', index=False)"
      ]
    },
    {
      "cell_type": "markdown",
      "id": "ff57d5db-8ab5-4b2d-b1e5-493981b61066",
      "metadata": {
        "id": "ff57d5db-8ab5-4b2d-b1e5-493981b61066"
      },
      "source": [
        "# Validação"
      ]
    },
    {
      "cell_type": "code",
      "execution_count": null,
      "id": "8618943c-49a6-49a2-8feb-8bc526116479",
      "metadata": {
        "id": "8618943c-49a6-49a2-8feb-8bc526116479"
      },
      "outputs": [],
      "source": [
        "# tabela_validacao.to_csv('validacao_valor.csv', index=False)"
      ]
    }
  ],
  "metadata": {
    "colab": {
      "provenance": []
    },
    "environment": {
      "kernel": "conda-base-py",
      "name": "workbench-notebooks.m122",
      "type": "gcloud",
      "uri": "us-docker.pkg.dev/deeplearning-platform-release/gcr.io/workbench-notebooks:m122"
    },
    "kernelspec": {
      "display_name": "Python 3 (ipykernel) (Local)",
      "language": "python",
      "name": "conda-base-py"
    },
    "language_info": {
      "codemirror_mode": {
        "name": "ipython",
        "version": 3
      },
      "file_extension": ".py",
      "mimetype": "text/x-python",
      "name": "python",
      "nbconvert_exporter": "python",
      "pygments_lexer": "ipython3",
      "version": "3.10.14"
    }
  },
  "nbformat": 4,
  "nbformat_minor": 5
}
